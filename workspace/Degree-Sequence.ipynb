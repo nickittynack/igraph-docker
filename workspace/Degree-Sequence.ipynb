{
 "cells": [
  {
   "cell_type": "code",
   "execution_count": 25,
   "metadata": {},
   "outputs": [
    {
     "name": "stdout",
     "output_type": "stream",
     "text": [
      "[1, 2, 3, 4, 5, 6, 7, 8, 9, 10]\n"
     ]
    },
    {
     "data": {
      "image/svg+xml": [
       "<?xml version=\"1.0\" encoding=\"UTF-8\"?>\n",
       "<svg xmlns=\"http://www.w3.org/2000/svg\" xmlns:xlink=\"http://www.w3.org/1999/xlink\" width=\"400pt\" height=\"400pt\" viewBox=\"0 0 400 400\" version=\"1.1\">\n",
       "<g id=\"surface104\">\n",
       "<rect x=\"0\" y=\"0\" width=\"400\" height=\"400\" style=\"fill:rgb(100%,100%,100%);fill-opacity:1;stroke:none;\"/>\n",
       "<path style=\"fill:none;stroke-width:1;stroke-linecap:butt;stroke-linejoin:miter;stroke:rgb(26.666667%,26.666667%,26.666667%);stroke-opacity:1;stroke-miterlimit:10;\" d=\"M 83.125 133.265625 C 153.730469 186.9375 177.207031 256.96875 141.398438 337.988281 \"/>\n",
       "<path style=\" stroke:none;fill-rule:nonzero;fill:rgb(26.666667%,26.666667%,26.666667%);fill-opacity:1;\" d=\"M 135.632812 351.035156 L 137.160156 336.113281 L 145.640625 339.863281 L 135.632812 351.035156 \"/>\n",
       "<path style=\"fill:none;stroke-width:1;stroke-linecap:butt;stroke-linejoin:miter;stroke:rgb(26.666667%,26.666667%,26.666667%);stroke-opacity:1;stroke-miterlimit:10;\" d=\"M 214.492188 290.042969 C 138.15625 278.25 90.550781 234.386719 84.902344 157.480469 \"/>\n",
       "<path style=\" stroke:none;fill-rule:nonzero;fill:rgb(26.666667%,26.666667%,26.666667%);fill-opacity:1;\" d=\"M 83.859375 143.253906 L 89.527344 157.140625 L 80.28125 157.820312 L 83.859375 143.253906 \"/>\n",
       "<path style=\"fill:none;stroke-width:1;stroke-linecap:butt;stroke-linejoin:miter;stroke:rgb(26.666667%,26.666667%,26.666667%);stroke-opacity:1;stroke-miterlimit:10;\" d=\"M 214.492188 290.042969 C 216.246094 212.820312 181.386719 158.273438 106.65625 139.253906 \"/>\n",
       "<path style=\" stroke:none;fill-rule:nonzero;fill:rgb(26.666667%,26.666667%,26.666667%);fill-opacity:1;\" d=\"M 92.828125 135.734375 L 107.796875 134.761719 L 105.511719 143.746094 L 92.828125 135.734375 \"/>\n",
       "<path style=\"fill:none;stroke-width:1;stroke-linecap:butt;stroke-linejoin:miter;stroke:rgb(26.666667%,26.666667%,26.666667%);stroke-opacity:1;stroke-miterlimit:10;\" d=\"M 214.492188 290.042969 L 320.730469 205.949219 \"/>\n",
       "<path style=\" stroke:none;fill-rule:nonzero;fill:rgb(26.666667%,26.666667%,26.666667%);fill-opacity:1;\" d=\"M 331.914062 197.09375 L 323.605469 209.582031 L 317.851562 202.3125 L 331.914062 197.09375 \"/>\n",
       "<path style=\"fill:none;stroke-width:1;stroke-linecap:butt;stroke-linejoin:miter;stroke:rgb(26.666667%,26.666667%,26.666667%);stroke-opacity:1;stroke-miterlimit:10;\" d=\"M 153.007812 211.429688 C 184.234375 256.355469 185.84375 303.128906 148.269531 342.652344 \"/>\n",
       "<path style=\" stroke:none;fill-rule:nonzero;fill:rgb(26.666667%,26.666667%,26.666667%);fill-opacity:1;\" d=\"M 138.441406 352.992188 L 144.910156 339.457031 L 151.632812 345.84375 L 138.441406 352.992188 \"/>\n",
       "<path style=\"fill:none;stroke-width:1;stroke-linecap:butt;stroke-linejoin:miter;stroke:rgb(26.666667%,26.666667%,26.666667%);stroke-opacity:1;stroke-miterlimit:10;\" d=\"M 214.492188 290.042969 C 193.257812 248.191406 197.066406 207.746094 233.984375 179.109375 \"/>\n",
       "<path style=\" stroke:none;fill-rule:nonzero;fill:rgb(26.666667%,26.666667%,26.666667%);fill-opacity:1;\" d=\"M 245.257812 170.367188 L 236.824219 182.773438 L 231.144531 175.449219 L 245.257812 170.367188 \"/>\n",
       "<path style=\"fill:none;stroke-width:1;stroke-linecap:butt;stroke-linejoin:miter;stroke:rgb(26.666667%,26.666667%,26.666667%);stroke-opacity:1;stroke-miterlimit:10;\" d=\"M 405.605469 306.699219 C 405.605469 314.984375 398.890625 321.699219 390.605469 321.699219 C 382.324219 321.699219 375.605469 314.984375 375.605469 306.699219 C 375.605469 298.414062 382.324219 291.699219 390.605469 291.699219 C 398.890625 291.699219 405.605469 298.414062 405.605469 306.699219 \"/>\n",
       "<path style=\"fill:none;stroke-width:1;stroke-linecap:butt;stroke-linejoin:miter;stroke:rgb(26.666667%,26.666667%,26.666667%);stroke-opacity:1;stroke-miterlimit:10;\" d=\"M 380 317.304688 L 155.492188 356.082031 \"/>\n",
       "<path style=\" stroke:none;fill-rule:nonzero;fill:rgb(26.666667%,26.666667%,26.666667%);fill-opacity:1;\" d=\"M 141.433594 358.507812 L 154.703125 351.511719 L 156.277344 360.648438 L 141.433594 358.507812 \"/>\n",
       "<path style=\"fill:none;stroke-width:1;stroke-linecap:butt;stroke-linejoin:miter;stroke:rgb(26.666667%,26.666667%,26.666667%);stroke-opacity:1;stroke-miterlimit:10;\" d=\"M 83.125 133.265625 C 40.597656 211.09375 47.765625 284.605469 113.539062 343.9375 \"/>\n",
       "<path style=\" stroke:none;fill-rule:nonzero;fill:rgb(26.666667%,26.666667%,26.666667%);fill-opacity:1;\" d=\"M 124.132812 353.492188 L 110.433594 347.378906 L 116.644531 340.496094 L 124.132812 353.492188 \"/>\n",
       "<path style=\"fill:none;stroke-width:1;stroke-linecap:butt;stroke-linejoin:miter;stroke:rgb(26.666667%,26.666667%,26.666667%);stroke-opacity:1;stroke-miterlimit:10;\" d=\"M 339.757812 190.886719 C 318.796875 233.390625 323.132812 274.152344 360.71875 302.675781 \"/>\n",
       "<path style=\" stroke:none;fill-rule:nonzero;fill:rgb(26.666667%,26.666667%,26.666667%);fill-opacity:1;\" d=\"M 372.085938 311.300781 L 357.917969 306.367188 L 363.523438 298.984375 L 372.085938 311.300781 \"/>\n",
       "<path style=\"fill:none;stroke-width:1;stroke-linecap:butt;stroke-linejoin:miter;stroke:rgb(26.666667%,26.666667%,26.666667%);stroke-opacity:1;stroke-miterlimit:10;\" d=\"M 339.757812 190.886719 L 106.800781 138.582031 \"/>\n",
       "<path style=\" stroke:none;fill-rule:nonzero;fill:rgb(26.666667%,26.666667%,26.666667%);fill-opacity:1;\" d=\"M 92.882812 135.457031 L 107.816406 134.058594 L 105.785156 143.105469 L 92.882812 135.457031 \"/>\n",
       "<path style=\"fill:none;stroke-width:1;stroke-linecap:butt;stroke-linejoin:miter;stroke:rgb(26.666667%,26.666667%,26.666667%);stroke-opacity:1;stroke-miterlimit:10;\" d=\"M 339.757812 190.886719 C 320.457031 292.867188 259.398438 353.296875 155.855469 358.898438 \"/>\n",
       "<path style=\" stroke:none;fill-rule:nonzero;fill:rgb(26.666667%,26.666667%,26.666667%);fill-opacity:1;\" d=\"M 141.609375 359.667969 L 155.605469 354.269531 L 156.105469 363.527344 L 141.609375 359.667969 \"/>\n",
       "<path style=\"fill:none;stroke-width:1;stroke-linecap:butt;stroke-linejoin:miter;stroke:rgb(26.666667%,26.666667%,26.666667%);stroke-opacity:1;stroke-miterlimit:10;\" d=\"M 253.105469 164.277344 C 308.867188 224.320312 319.402344 291.984375 273.703125 359.855469 \"/>\n",
       "<path style=\" stroke:none;fill-rule:nonzero;fill:rgb(26.666667%,26.666667%,26.666667%);fill-opacity:1;\" d=\"M 265.734375 371.6875 L 269.855469 357.265625 L 277.546875 362.445312 L 265.734375 371.6875 \"/>\n",
       "<path style=\"fill:none;stroke-width:1;stroke-linecap:butt;stroke-linejoin:miter;stroke:rgb(26.666667%,26.666667%,26.666667%);stroke-opacity:1;stroke-miterlimit:10;\" d=\"M 153.007812 211.429688 C 225.265625 232.410156 265.855469 280.777344 261.535156 355.765625 \"/>\n",
       "<path style=\" stroke:none;fill-rule:nonzero;fill:rgb(26.666667%,26.666667%,26.666667%);fill-opacity:1;\" d=\"M 260.710938 370.007812 L 256.90625 355.5 L 266.160156 356.03125 L 260.710938 370.007812 \"/>\n",
       "<path style=\"fill:none;stroke-width:1;stroke-linecap:butt;stroke-linejoin:miter;stroke:rgb(26.666667%,26.666667%,26.666667%);stroke-opacity:1;stroke-miterlimit:10;\" d=\"M 380 317.304688 C 364.515625 363.234375 331.980469 389.546875 284.132812 383.1875 \"/>\n",
       "<path style=\" stroke:none;fill-rule:nonzero;fill:rgb(26.666667%,26.666667%,26.666667%);fill-opacity:1;\" d=\"M 269.992188 381.308594 L 284.742188 378.59375 L 283.523438 387.785156 L 269.992188 381.308594 \"/>\n",
       "<path style=\"fill:none;stroke-width:1;stroke-linecap:butt;stroke-linejoin:miter;stroke:rgb(26.666667%,26.666667%,26.666667%);stroke-opacity:1;stroke-miterlimit:10;\" d=\"M 380 317.304688 L 175 221.6875 \"/>\n",
       "<path style=\" stroke:none;fill-rule:nonzero;fill:rgb(26.666667%,26.666667%,26.666667%);fill-opacity:1;\" d=\"M 162.070312 215.65625 L 176.960938 217.488281 L 173.039062 225.886719 L 162.070312 215.65625 \"/>\n",
       "<path style=\"fill:none;stroke-width:1;stroke-linecap:butt;stroke-linejoin:miter;stroke:rgb(26.666667%,26.666667%,26.666667%);stroke-opacity:1;stroke-miterlimit:10;\" d=\"M 20 283.960938 C 114.59375 252.320312 194.074219 275.117188 247.179688 359.433594 \"/>\n",
       "<path style=\" stroke:none;fill-rule:nonzero;fill:rgb(26.666667%,26.666667%,26.666667%);fill-opacity:1;\" d=\"M 254.785156 371.503906 L 243.257812 361.902344 L 251.105469 356.960938 L 254.785156 371.503906 \"/>\n",
       "<path style=\"fill:none;stroke-width:1;stroke-linecap:butt;stroke-linejoin:miter;stroke:rgb(26.666667%,26.666667%,26.666667%);stroke-opacity:1;stroke-miterlimit:10;\" d=\"M 214.492188 290.042969 C 158.253906 336.75 97.152344 343.152344 39.257812 298.734375 \"/>\n",
       "<path style=\" stroke:none;fill-rule:nonzero;fill:rgb(26.666667%,26.666667%,26.666667%);fill-opacity:1;\" d=\"M 27.9375 290.050781 L 42.078125 295.054688 L 36.4375 302.410156 L 27.9375 290.050781 \"/>\n",
       "<path style=\"fill:none;stroke-width:1;stroke-linecap:butt;stroke-linejoin:miter;stroke:rgb(26.666667%,26.666667%,26.666667%);stroke-opacity:1;stroke-miterlimit:10;\" d=\"M 153.007812 211.429688 L 222.714844 42.433594 \"/>\n",
       "<path style=\" stroke:none;fill-rule:nonzero;fill:rgb(26.666667%,26.666667%,26.666667%);fill-opacity:1;\" d=\"M 228.152344 29.246094 L 227 44.199219 L 218.429688 40.664062 L 228.152344 29.246094 \"/>\n",
       "<path style=\"fill:none;stroke-width:1;stroke-linecap:butt;stroke-linejoin:miter;stroke:rgb(26.666667%,26.666667%,26.666667%);stroke-opacity:1;stroke-miterlimit:10;\" d=\"M 231.96875 20 C 218.585938 88.675781 177.179688 130.617188 107.382812 132.582031 \"/>\n",
       "<path style=\" stroke:none;fill-rule:nonzero;fill:rgb(26.666667%,26.666667%,26.666667%);fill-opacity:1;\" d=\"M 93.121094 132.984375 L 107.25 127.949219 L 107.511719 137.214844 L 93.121094 132.984375 \"/>\n",
       "<path style=\"fill:none;stroke-width:1;stroke-linecap:butt;stroke-linejoin:miter;stroke:rgb(26.666667%,26.666667%,26.666667%);stroke-opacity:1;stroke-miterlimit:10;\" d=\"M 20 283.960938 L 111.542969 346.519531 \"/>\n",
       "<path style=\" stroke:none;fill-rule:nonzero;fill:rgb(26.666667%,26.666667%,26.666667%);fill-opacity:1;\" d=\"M 123.320312 354.570312 L 108.929688 350.347656 L 114.160156 342.691406 L 123.320312 354.570312 \"/>\n",
       "<path style=\"fill:none;stroke-width:1;stroke-linecap:butt;stroke-linejoin:miter;stroke:rgb(26.666667%,26.666667%,26.666667%);stroke-opacity:1;stroke-miterlimit:10;\" d=\"M 253.105469 164.277344 C 201.375 227.824219 195.269531 296.03125 245.289062 360.78125 \"/>\n",
       "<path style=\" stroke:none;fill-rule:nonzero;fill:rgb(26.666667%,26.666667%,26.666667%);fill-opacity:1;\" d=\"M 254.011719 372.070312 L 241.621094 363.613281 L 248.957031 357.945312 L 254.011719 372.070312 \"/>\n",
       "<path style=\"fill:none;stroke-width:1;stroke-linecap:butt;stroke-linejoin:miter;stroke:rgb(26.666667%,26.666667%,26.666667%);stroke-opacity:1;stroke-miterlimit:10;\" d=\"M 231.96875 20 C 305.054688 41.566406 345.890625 90.722656 341.242188 166.65625 \"/>\n",
       "<path style=\" stroke:none;fill-rule:nonzero;fill:rgb(26.666667%,26.666667%,26.666667%);fill-opacity:1;\" d=\"M 340.367188 180.894531 L 336.613281 166.371094 L 345.867188 166.9375 L 340.367188 180.894531 \"/>\n",
       "<path style=\"fill:none;stroke-width:1;stroke-linecap:butt;stroke-linejoin:miter;stroke:rgb(26.666667%,26.666667%,26.666667%);stroke-opacity:1;stroke-miterlimit:10;\" d=\"M 380 317.304688 C 333.445312 303.828125 293.273438 315.542969 271.203125 358.472656 \"/>\n",
       "<path style=\" stroke:none;fill-rule:nonzero;fill:rgb(26.666667%,26.666667%,26.666667%);fill-opacity:1;\" d=\"M 264.683594 371.160156 L 267.082031 356.351562 L 275.328125 360.589844 L 264.683594 371.160156 \"/>\n",
       "<path style=\"fill:none;stroke-width:1;stroke-linecap:butt;stroke-linejoin:miter;stroke:rgb(26.666667%,26.666667%,26.666667%);stroke-opacity:1;stroke-miterlimit:10;\" d=\"M 214.492188 290.042969 L 150.101562 344.535156 \"/>\n",
       "<path style=\" stroke:none;fill-rule:nonzero;fill:rgb(26.666667%,26.666667%,26.666667%);fill-opacity:1;\" d=\"M 139.210938 353.75 L 147.105469 340.996094 L 153.097656 348.074219 L 139.210938 353.75 \"/>\n",
       "<path style=\"fill:none;stroke-width:1;stroke-linecap:butt;stroke-linejoin:miter;stroke:rgb(26.666667%,26.666667%,26.666667%);stroke-opacity:1;stroke-miterlimit:10;\" d=\"M 231.96875 20 C 273.347656 52.867188 287.976562 95.757812 264.09375 142.691406 \"/>\n",
       "<path style=\" stroke:none;fill-rule:nonzero;fill:rgb(26.666667%,26.666667%,26.666667%);fill-opacity:1;\" d=\"M 257.621094 155.40625 L 259.960938 140.589844 L 268.222656 144.792969 L 257.621094 155.40625 \"/>\n",
       "<path style=\"fill:none;stroke-width:1;stroke-linecap:butt;stroke-linejoin:miter;stroke:rgb(26.666667%,26.666667%,26.666667%);stroke-opacity:1;stroke-miterlimit:10;\" d=\"M 153.007812 211.429688 C 117.160156 210.085938 90.53125 192.558594 86.117188 157.226562 \"/>\n",
       "<path style=\" stroke:none;fill-rule:nonzero;fill:rgb(26.666667%,26.666667%,26.666667%);fill-opacity:1;\" d=\"M 84.351562 143.070312 L 90.71875 156.652344 L 81.519531 157.800781 L 84.351562 143.070312 \"/>\n",
       "<path style=\"fill:none;stroke-width:1;stroke-linecap:butt;stroke-linejoin:miter;stroke:rgb(26.666667%,26.666667%,26.666667%);stroke-opacity:1;stroke-miterlimit:10;\" d=\"M 339.757812 190.886719 C 235.984375 189.007812 164.382812 236.480469 137.808594 336.710938 \"/>\n",
       "<path style=\" stroke:none;fill-rule:nonzero;fill:rgb(26.666667%,26.666667%,26.666667%);fill-opacity:1;\" d=\"M 134.152344 350.5 L 133.328125 335.523438 L 142.289062 337.898438 L 134.152344 350.5 \"/>\n",
       "<path style=\"fill:none;stroke-width:1;stroke-linecap:butt;stroke-linejoin:miter;stroke:rgb(26.666667%,26.666667%,26.666667%);stroke-opacity:1;stroke-miterlimit:10;\" d=\"M 260.136719 380 L 330.339844 213.25 \"/>\n",
       "<path style=\" stroke:none;fill-rule:nonzero;fill:rgb(26.666667%,26.666667%,26.666667%);fill-opacity:1;\" d=\"M 335.875 200.101562 L 334.613281 215.050781 L 326.066406 211.453125 L 335.875 200.101562 \"/>\n",
       "<path style=\"fill:none;stroke-width:1;stroke-linecap:butt;stroke-linejoin:miter;stroke:rgb(26.666667%,26.666667%,26.666667%);stroke-opacity:1;stroke-miterlimit:10;\" d=\"M 153.007812 211.429688 C 141.320312 285.757812 167.875 343.042969 237.601562 370.972656 \"/>\n",
       "<path style=\" stroke:none;fill-rule:nonzero;fill:rgb(26.666667%,26.666667%,26.666667%);fill-opacity:1;\" d=\"M 250.84375 376.277344 L 235.878906 375.277344 L 239.324219 366.671875 L 250.84375 376.277344 \"/>\n",
       "<path style=\"fill:none;stroke-width:1;stroke-linecap:butt;stroke-linejoin:miter;stroke:rgb(26.666667%,26.666667%,26.666667%);stroke-opacity:1;stroke-miterlimit:10;\" d=\"M 380 317.304688 C 400.960938 274.800781 396.625 234.042969 359.035156 205.515625 \"/>\n",
       "<path style=\" stroke:none;fill-rule:nonzero;fill:rgb(26.666667%,26.666667%,26.666667%);fill-opacity:1;\" d=\"M 347.671875 196.894531 L 361.835938 201.824219 L 356.234375 209.210938 L 347.671875 196.894531 \"/>\n",
       "<path style=\"fill:none;stroke-width:1;stroke-linecap:butt;stroke-linejoin:miter;stroke:rgb(26.666667%,26.666667%,26.666667%);stroke-opacity:1;stroke-miterlimit:10;\" d=\"M 153.007812 211.429688 C 135.539062 263.796875 98.703125 293.292969 44.0625 286.8125 \"/>\n",
       "<path style=\" stroke:none;fill-rule:nonzero;fill:rgb(26.666667%,26.666667%,26.666667%);fill-opacity:1;\" d=\"M 29.894531 285.132812 L 44.605469 282.210938 L 43.515625 291.417969 L 29.894531 285.132812 \"/>\n",
       "<path style=\"fill:none;stroke-width:1;stroke-linecap:butt;stroke-linejoin:miter;stroke:rgb(26.666667%,26.666667%,26.666667%);stroke-opacity:1;stroke-miterlimit:10;\" d=\"M 20 283.960938 L 73.75 155.648438 \"/>\n",
       "<path style=\" stroke:none;fill-rule:nonzero;fill:rgb(26.666667%,26.666667%,26.666667%);fill-opacity:1;\" d=\"M 79.261719 142.488281 L 78.027344 157.4375 L 69.476562 153.855469 L 79.261719 142.488281 \"/>\n",
       "<path style=\"fill:none;stroke-width:1;stroke-linecap:butt;stroke-linejoin:miter;stroke:rgb(26.666667%,26.666667%,26.666667%);stroke-opacity:1;stroke-miterlimit:10;\" d=\"M 231.96875 20 C 162.210938 14.59375 110.75 43.320312 90.25 110.070312 \"/>\n",
       "<path style=\" stroke:none;fill-rule:nonzero;fill:rgb(26.666667%,26.666667%,26.666667%);fill-opacity:1;\" d=\"M 86.0625 123.707031 L 85.820312 108.710938 L 94.679688 111.429688 L 86.0625 123.707031 \"/>\n",
       "<path style=\"fill:none;stroke-width:1;stroke-linecap:butt;stroke-linejoin:miter;stroke:rgb(26.666667%,26.666667%,26.666667%);stroke-opacity:1;stroke-miterlimit:10;\" d=\"M 257.574219 9.394531 C 257.574219 17.675781 250.859375 24.394531 242.574219 24.394531 C 234.289062 24.394531 227.574219 17.675781 227.574219 9.394531 C 227.574219 1.109375 234.289062 -5.605469 242.574219 -5.605469 C 250.859375 -5.605469 257.574219 1.109375 257.574219 9.394531 \"/>\n",
       "<path style=\"fill:none;stroke-width:1;stroke-linecap:butt;stroke-linejoin:miter;stroke:rgb(26.666667%,26.666667%,26.666667%);stroke-opacity:1;stroke-miterlimit:10;\" d=\"M 214.492188 290.042969 C 161.28125 239.914062 100.699219 229.703125 40.140625 270.417969 \"/>\n",
       "<path style=\" stroke:none;fill-rule:nonzero;fill:rgb(26.666667%,26.666667%,26.666667%);fill-opacity:1;\" d=\"M 28.304688 278.378906 L 37.554688 266.570312 L 42.730469 274.265625 L 28.304688 278.378906 \"/>\n",
       "<path style=\"fill:none;stroke-width:1;stroke-linecap:butt;stroke-linejoin:miter;stroke:rgb(26.666667%,26.666667%,26.666667%);stroke-opacity:1;stroke-miterlimit:10;\" d=\"M 260.136719 380 L 155.5625 363.902344 \"/>\n",
       "<path style=\" stroke:none;fill-rule:nonzero;fill:rgb(26.666667%,26.666667%,26.666667%);fill-opacity:1;\" d=\"M 141.460938 361.730469 L 156.265625 359.320312 L 154.855469 368.484375 L 141.460938 361.730469 \"/>\n",
       "<path style=\"fill:none;stroke-width:1;stroke-linecap:butt;stroke-linejoin:miter;stroke:rgb(26.666667%,26.666667%,26.666667%);stroke-opacity:1;stroke-miterlimit:10;\" d=\"M 83.125 133.265625 L 229.234375 159.921875 \"/>\n",
       "<path style=\" stroke:none;fill-rule:nonzero;fill:rgb(26.666667%,26.666667%,26.666667%);fill-opacity:1;\" d=\"M 243.269531 162.484375 L 228.402344 164.484375 L 230.066406 155.363281 L 243.269531 162.484375 \"/>\n",
       "<path style=\"fill:none;stroke-width:1;stroke-linecap:butt;stroke-linejoin:miter;stroke:rgb(26.666667%,26.666667%,26.666667%);stroke-opacity:1;stroke-miterlimit:10;\" d=\"M 153.007812 211.429688 C 155.667969 175.65625 141.222656 147.238281 106.601562 138.914062 \"/>\n",
       "<path style=\" stroke:none;fill-rule:nonzero;fill:rgb(26.666667%,26.666667%,26.666667%);fill-opacity:1;\" d=\"M 92.730469 135.578125 L 107.6875 134.40625 L 105.519531 143.417969 L 92.730469 135.578125 \"/>\n",
       "<path style=\"fill:none;stroke-width:1;stroke-linecap:butt;stroke-linejoin:miter;stroke:rgb(26.666667%,26.666667%,26.666667%);stroke-opacity:1;stroke-miterlimit:10;\" d=\"M 131.578125 360.210938 L 320.929688 206.199219 \"/>\n",
       "<path style=\" stroke:none;fill-rule:nonzero;fill:rgb(26.666667%,26.666667%,26.666667%);fill-opacity:1;\" d=\"M 332 197.195312 L 323.855469 209.792969 L 318.007812 202.601562 L 332 197.195312 \"/>\n",
       "<path style=\"fill:none;stroke-width:1;stroke-linecap:butt;stroke-linejoin:miter;stroke:rgb(26.666667%,26.666667%,26.666667%);stroke-opacity:1;stroke-miterlimit:10;\" d=\"M 380 317.304688 L 347.117188 214.007812 \"/>\n",
       "<path style=\" stroke:none;fill-rule:nonzero;fill:rgb(26.666667%,26.666667%,26.666667%);fill-opacity:1;\" d=\"M 342.789062 200.414062 L 351.535156 212.601562 L 342.699219 215.414062 L 342.789062 200.414062 \"/>\n",
       "<path style=\"fill:none;stroke-width:1;stroke-linecap:butt;stroke-linejoin:miter;stroke:rgb(26.666667%,26.666667%,26.666667%);stroke-opacity:1;stroke-miterlimit:10;\" d=\"M 153.007812 211.429688 C 110.375 245.714844 95.628906 290.132812 120.519531 338.652344 \"/>\n",
       "<path style=\" stroke:none;fill-rule:nonzero;fill:rgb(26.666667%,26.666667%,26.666667%);fill-opacity:1;\" d=\"M 127.03125 351.347656 L 116.394531 340.769531 L 124.644531 336.539062 L 127.03125 351.347656 \"/>\n",
       "<path style=\"fill:none;stroke-width:1;stroke-linecap:butt;stroke-linejoin:miter;stroke:rgb(26.666667%,26.666667%,26.666667%);stroke-opacity:1;stroke-miterlimit:10;\" d=\"M 231.96875 20 C 219.945312 95.25 246.71875 153.277344 317.25 181.789062 \"/>\n",
       "<path style=\" stroke:none;fill-rule:nonzero;fill:rgb(26.666667%,26.666667%,26.666667%);fill-opacity:1;\" d=\"M 330.472656 187.136719 L 315.511719 186.085938 L 318.984375 177.492188 L 330.472656 187.136719 \"/>\n",
       "<path style=\"fill:none;stroke-width:1;stroke-linecap:butt;stroke-linejoin:miter;stroke:rgb(26.666667%,26.666667%,26.666667%);stroke-opacity:1;stroke-miterlimit:10;\" d=\"M 20 283.960938 C 66.691406 372.105469 139.96875 410.402344 236.570312 385.960938 \"/>\n",
       "<path style=\" stroke:none;fill-rule:nonzero;fill:rgb(26.666667%,26.666667%,26.666667%);fill-opacity:1;\" d=\"M 250.402344 382.464844 L 237.707031 390.457031 L 235.433594 381.46875 L 250.402344 382.464844 \"/>\n",
       "<path style=\"fill:none;stroke-width:1;stroke-linecap:butt;stroke-linejoin:miter;stroke:rgb(26.666667%,26.666667%,26.666667%);stroke-opacity:1;stroke-miterlimit:10;\" d=\"M 253.105469 164.277344 C 274.34375 206.128906 270.535156 246.574219 233.617188 275.207031 \"/>\n",
       "<path style=\" stroke:none;fill-rule:nonzero;fill:rgb(26.666667%,26.666667%,26.666667%);fill-opacity:1;\" d=\"M 222.34375 283.953125 L 230.777344 271.546875 L 236.457031 278.871094 L 222.34375 283.953125 \"/>\n",
       "<path style=\"fill:none;stroke-width:1;stroke-linecap:butt;stroke-linejoin:miter;stroke:rgb(26.666667%,26.666667%,26.666667%);stroke-opacity:1;stroke-miterlimit:10;\" d=\"M 253.105469 164.277344 C 214.265625 257.6875 143.890625 303.207031 44.023438 287.691406 \"/>\n",
       "<path style=\" stroke:none;fill-rule:nonzero;fill:rgb(26.666667%,26.666667%,26.666667%);fill-opacity:1;\" d=\"M 29.925781 285.503906 L 44.734375 283.113281 L 43.308594 292.273438 L 29.925781 285.503906 \"/>\n",
       "<path style=\"fill:none;stroke-width:1;stroke-linecap:butt;stroke-linejoin:miter;stroke:rgb(26.666667%,26.666667%,26.666667%);stroke-opacity:1;stroke-miterlimit:10;\" d=\"M 153.007812 211.429688 L 199.542969 270.925781 \"/>\n",
       "<path style=\" stroke:none;fill-rule:nonzero;fill:rgb(26.666667%,26.666667%,26.666667%);fill-opacity:1;\" d=\"M 208.332031 282.164062 L 195.894531 273.78125 L 203.195312 268.070312 L 208.332031 282.164062 \"/>\n",
       "<path style=\"fill:none;stroke-width:1;stroke-linecap:butt;stroke-linejoin:miter;stroke:rgb(26.666667%,26.666667%,26.666667%);stroke-opacity:1;stroke-miterlimit:10;\" d=\"M 380 317.304688 L 268.597656 182.957031 \"/>\n",
       "<path style=\" stroke:none;fill-rule:nonzero;fill:rgb(26.666667%,26.666667%,26.666667%);fill-opacity:1;\" d=\"M 259.492188 171.976562 L 272.164062 180 L 265.027344 185.914062 L 259.492188 171.976562 \"/>\n",
       "<path style=\"fill:none;stroke-width:1;stroke-linecap:butt;stroke-linejoin:miter;stroke:rgb(26.666667%,26.666667%,26.666667%);stroke-opacity:1;stroke-miterlimit:10;\" d=\"M 214.492188 290.042969 L 249.15625 358.359375 \"/>\n",
       "<path style=\" stroke:none;fill-rule:nonzero;fill:rgb(26.666667%,26.666667%,26.666667%);fill-opacity:1;\" d=\"M 255.613281 371.082031 L 245.023438 360.457031 L 253.289062 356.261719 L 255.613281 371.082031 \"/>\n",
       "<path style=\"fill:none;stroke-width:1;stroke-linecap:butt;stroke-linejoin:miter;stroke:rgb(26.666667%,26.666667%,26.666667%);stroke-opacity:1;stroke-miterlimit:10;\" d=\"M 153.007812 211.429688 C 99.527344 197.753906 54.78125 212.742188 30.632812 262.1875 \"/>\n",
       "<path style=\" stroke:none;fill-rule:nonzero;fill:rgb(26.666667%,26.666667%,26.666667%);fill-opacity:1;\" d=\"M 24.371094 275.007812 L 26.46875 260.15625 L 34.796875 264.222656 L 24.371094 275.007812 \"/>\n",
       "<path style=\"fill:none;stroke-width:1;stroke-linecap:butt;stroke-linejoin:miter;stroke:rgb(26.666667%,26.666667%,26.666667%);stroke-opacity:1;stroke-miterlimit:10;\" d=\"M 253.105469 164.277344 C 154.5625 141.40625 76.558594 172.066406 30.964844 262.265625 \"/>\n",
       "<path style=\" stroke:none;fill-rule:nonzero;fill:rgb(26.666667%,26.666667%,26.666667%);fill-opacity:1;\" d=\"M 24.53125 274.996094 L 26.828125 260.171875 L 35.101562 264.355469 L 24.53125 274.996094 \"/>\n",
       "<path style=\"fill:none;stroke-width:1;stroke-linecap:butt;stroke-linejoin:miter;stroke:rgb(26.666667%,26.666667%,26.666667%);stroke-opacity:1;stroke-miterlimit:10;\" d=\"M 257.574219 9.394531 C 257.574219 17.675781 250.859375 24.394531 242.574219 24.394531 C 234.289062 24.394531 227.574219 17.675781 227.574219 9.394531 C 227.574219 1.109375 234.289062 -5.605469 242.574219 -5.605469 C 250.859375 -5.605469 257.574219 1.109375 257.574219 9.394531 \"/>\n",
       "<path style=\"fill:none;stroke-width:1;stroke-linecap:butt;stroke-linejoin:miter;stroke:rgb(26.666667%,26.666667%,26.666667%);stroke-opacity:1;stroke-miterlimit:10;\" d=\"M 20 283.960938 L 231.519531 175.359375 \"/>\n",
       "<path style=\" stroke:none;fill-rule:nonzero;fill:rgb(26.666667%,26.666667%,26.666667%);fill-opacity:1;\" d=\"M 244.210938 168.84375 L 233.636719 179.484375 L 229.402344 171.238281 L 244.210938 168.84375 \"/>\n",
       "<path style=\"fill:none;stroke-width:1;stroke-linecap:butt;stroke-linejoin:miter;stroke:rgb(26.666667%,26.666667%,26.666667%);stroke-opacity:1;stroke-miterlimit:10;\" d=\"M 380 317.304688 L 238.4375 293.984375 \"/>\n",
       "<path style=\" stroke:none;fill-rule:nonzero;fill:rgb(26.666667%,26.666667%,26.666667%);fill-opacity:1;\" d=\"M 224.359375 291.667969 L 239.191406 289.410156 L 237.683594 298.558594 L 224.359375 291.667969 \"/>\n",
       "<path style=\"fill:none;stroke-width:1;stroke-linecap:butt;stroke-linejoin:miter;stroke:rgb(26.666667%,26.666667%,26.666667%);stroke-opacity:1;stroke-miterlimit:10;\" d=\"M 253.105469 164.277344 C 211.726562 131.414062 197.097656 88.519531 220.980469 41.585938 \"/>\n",
       "<path style=\" stroke:none;fill-rule:nonzero;fill:rgb(26.666667%,26.666667%,26.666667%);fill-opacity:1;\" d=\"M 227.453125 28.875 L 225.113281 43.691406 L 216.851562 39.484375 L 227.453125 28.875 \"/>\n",
       "<path style=\"fill-rule:nonzero;fill:rgb(100%,75.294118%,79.607843%);fill-opacity:1;stroke-width:1;stroke-linecap:butt;stroke-linejoin:miter;stroke:rgb(0%,0%,0%);stroke-opacity:1;stroke-miterlimit:10;\" d=\"M 141.578125 360.210938 C 141.578125 365.734375 137.101562 370.210938 131.578125 370.210938 C 126.054688 370.210938 121.578125 365.734375 121.578125 360.210938 C 121.578125 354.6875 126.054688 350.210938 131.578125 350.210938 C 137.101562 350.210938 141.578125 354.6875 141.578125 360.210938 \"/>\n",
       "<path style=\"fill-rule:nonzero;fill:rgb(0%,0%,100%);fill-opacity:1;stroke-width:1;stroke-linecap:butt;stroke-linejoin:miter;stroke:rgb(0%,0%,0%);stroke-opacity:1;stroke-miterlimit:10;\" d=\"M 270.136719 380 C 270.136719 385.523438 265.660156 390 260.136719 390 C 254.613281 390 250.136719 385.523438 250.136719 380 C 250.136719 374.476562 254.613281 370 260.136719 370 C 265.660156 370 270.136719 374.476562 270.136719 380 \"/>\n",
       "<path style=\"fill-rule:nonzero;fill:rgb(0%,0%,100%);fill-opacity:1;stroke-width:1;stroke-linecap:butt;stroke-linejoin:miter;stroke:rgb(0%,0%,0%);stroke-opacity:1;stroke-miterlimit:10;\" d=\"M 93.125 133.265625 C 93.125 138.789062 88.648438 143.265625 83.125 143.265625 C 77.601562 143.265625 73.125 138.789062 73.125 133.265625 C 73.125 127.742188 77.601562 123.265625 83.125 123.265625 C 88.648438 123.265625 93.125 127.742188 93.125 133.265625 \"/>\n",
       "<path style=\"fill-rule:nonzero;fill:rgb(100%,75.294118%,79.607843%);fill-opacity:1;stroke-width:1;stroke-linecap:butt;stroke-linejoin:miter;stroke:rgb(0%,0%,0%);stroke-opacity:1;stroke-miterlimit:10;\" d=\"M 349.757812 190.886719 C 349.757812 196.410156 345.277344 200.886719 339.757812 200.886719 C 334.234375 200.886719 329.757812 196.410156 329.757812 190.886719 C 329.757812 185.363281 334.234375 180.886719 339.757812 180.886719 C 345.277344 180.886719 349.757812 185.363281 349.757812 190.886719 \"/>\n",
       "<path style=\"fill-rule:nonzero;fill:rgb(0%,0%,100%);fill-opacity:1;stroke-width:1;stroke-linecap:butt;stroke-linejoin:miter;stroke:rgb(0%,0%,0%);stroke-opacity:1;stroke-miterlimit:10;\" d=\"M 30 283.960938 C 30 289.484375 25.523438 293.960938 20 293.960938 C 14.476562 293.960938 10 289.484375 10 283.960938 C 10 278.4375 14.476562 273.960938 20 273.960938 C 25.523438 273.960938 30 278.4375 30 283.960938 \"/>\n",
       "<path style=\"fill-rule:nonzero;fill:rgb(0%,0%,100%);fill-opacity:1;stroke-width:1;stroke-linecap:butt;stroke-linejoin:miter;stroke:rgb(0%,0%,0%);stroke-opacity:1;stroke-miterlimit:10;\" d=\"M 263.105469 164.277344 C 263.105469 169.800781 258.628906 174.277344 253.105469 174.277344 C 247.585938 174.277344 243.105469 169.800781 243.105469 164.277344 C 243.105469 158.753906 247.585938 154.277344 253.105469 154.277344 C 258.628906 154.277344 263.105469 158.753906 263.105469 164.277344 \"/>\n",
       "<path style=\"fill-rule:nonzero;fill:rgb(100%,75.294118%,79.607843%);fill-opacity:1;stroke-width:1;stroke-linecap:butt;stroke-linejoin:miter;stroke:rgb(0%,0%,0%);stroke-opacity:1;stroke-miterlimit:10;\" d=\"M 241.96875 20 C 241.96875 25.523438 237.488281 30 231.96875 30 C 226.445312 30 221.96875 25.523438 221.96875 20 C 221.96875 14.476562 226.445312 10 231.96875 10 C 237.488281 10 241.96875 14.476562 241.96875 20 \"/>\n",
       "<path style=\"fill-rule:nonzero;fill:rgb(0%,0%,100%);fill-opacity:1;stroke-width:1;stroke-linecap:butt;stroke-linejoin:miter;stroke:rgb(0%,0%,0%);stroke-opacity:1;stroke-miterlimit:10;\" d=\"M 224.492188 290.042969 C 224.492188 295.5625 220.015625 300.042969 214.492188 300.042969 C 208.972656 300.042969 204.492188 295.5625 204.492188 290.042969 C 204.492188 284.519531 208.972656 280.042969 214.492188 280.042969 C 220.015625 280.042969 224.492188 284.519531 224.492188 290.042969 \"/>\n",
       "<path style=\"fill-rule:nonzero;fill:rgb(0%,0%,100%);fill-opacity:1;stroke-width:1;stroke-linecap:butt;stroke-linejoin:miter;stroke:rgb(0%,0%,0%);stroke-opacity:1;stroke-miterlimit:10;\" d=\"M 390 317.304688 C 390 322.828125 385.523438 327.304688 380 327.304688 C 374.476562 327.304688 370 322.828125 370 317.304688 C 370 311.785156 374.476562 307.304688 380 307.304688 C 385.523438 307.304688 390 311.785156 390 317.304688 \"/>\n",
       "<path style=\"fill-rule:nonzero;fill:rgb(100%,75.294118%,79.607843%);fill-opacity:1;stroke-width:1;stroke-linecap:butt;stroke-linejoin:miter;stroke:rgb(0%,0%,0%);stroke-opacity:1;stroke-miterlimit:10;\" d=\"M 163.007812 211.429688 C 163.007812 216.953125 158.53125 221.429688 153.007812 221.429688 C 147.484375 221.429688 143.007812 216.953125 143.007812 211.429688 C 143.007812 205.90625 147.484375 201.429688 153.007812 201.429688 C 158.53125 201.429688 163.007812 205.90625 163.007812 211.429688 \"/>\n",
       "</g>\n",
       "</svg>\n"
      ],
      "text/plain": [
       "<igraph.drawing.Plot at 0x7f32585c3470>"
      ]
     },
     "execution_count": 25,
     "metadata": {
      "image/svg+xml": {
       "isolated": true
      }
     },
     "output_type": "execute_result"
    }
   ],
   "source": [
    "import igraph as ig\n",
    "l = list(range(1,11))\n",
    "print(l)\n",
    "G = ig.Graph.Degree_Sequence(l, l[::-1])\n",
    "color_dict = {\"m\": \"blue\", \"f\": \"pink\"}\n",
    "G.vs[\"gender\"] = [\"f\", \"m\", \"m\"]\n",
    "G.vs[\"color\"] = [color_dict[gender] for gender in G.vs[\"gender\"]]\n",
    "ig.plot(G, bbox = (400,400), layout = G.layout('kk'))"
   ]
  },
  {
   "cell_type": "code",
   "execution_count": 20,
   "metadata": {},
   "outputs": [
    {
     "data": {
      "image/svg+xml": [
       "<?xml version=\"1.0\" encoding=\"UTF-8\"?>\n",
       "<svg xmlns=\"http://www.w3.org/2000/svg\" xmlns:xlink=\"http://www.w3.org/1999/xlink\" width=\"400pt\" height=\"400pt\" viewBox=\"0 0 400 400\" version=\"1.1\">\n",
       "<g id=\"surface86\">\n",
       "<rect x=\"0\" y=\"0\" width=\"400\" height=\"400\" style=\"fill:rgb(100%,100%,100%);fill-opacity:1;stroke:none;\"/>\n",
       "<path style=\"fill:none;stroke-width:1;stroke-linecap:butt;stroke-linejoin:miter;stroke:rgb(26.666667%,26.666667%,26.666667%);stroke-opacity:1;stroke-miterlimit:10;\" d=\"M 20 380 C 85.96875 234.625 198.726562 168.867188 356.003906 195.878906 \"/>\n",
       "<path style=\" stroke:none;fill-rule:nonzero;fill:rgb(26.666667%,26.666667%,26.666667%);fill-opacity:1;\" d=\"M 370.0625 198.292969 L 355.21875 200.445312 L 356.789062 191.308594 L 370.0625 198.292969 \"/>\n",
       "<path style=\"fill:none;stroke-width:1;stroke-linecap:butt;stroke-linejoin:miter;stroke:rgb(26.666667%,26.666667%,26.666667%);stroke-opacity:1;stroke-miterlimit:10;\" d=\"M 20 20 C 175.882812 -14.449219 296.140625 36.300781 368.898438 178.328125 \"/>\n",
       "<path style=\" stroke:none;fill-rule:nonzero;fill:rgb(26.666667%,26.666667%,26.666667%);fill-opacity:1;\" d=\"M 375.402344 191.027344 L 364.773438 180.441406 L 373.023438 176.214844 L 375.402344 191.027344 \"/>\n",
       "<path style=\"fill:none;stroke-width:1;stroke-linecap:butt;stroke-linejoin:miter;stroke:rgb(26.666667%,26.666667%,26.666667%);stroke-opacity:1;stroke-miterlimit:10;\" d=\"M 380 200 C 314.03125 345.375 201.273438 411.132812 43.996094 384.121094 \"/>\n",
       "<path style=\" stroke:none;fill-rule:nonzero;fill:rgb(26.666667%,26.666667%,26.666667%);fill-opacity:1;\" d=\"M 29.9375 381.707031 L 44.78125 379.554688 L 43.210938 388.691406 L 29.9375 381.707031 \"/>\n",
       "<path style=\"fill:none;stroke-width:1;stroke-linecap:butt;stroke-linejoin:miter;stroke:rgb(26.666667%,26.666667%,26.666667%);stroke-opacity:1;stroke-miterlimit:10;\" d=\"M 45.605469 369.394531 C 45.605469 377.675781 38.890625 384.394531 30.605469 384.394531 C 22.324219 384.394531 15.605469 377.675781 15.605469 369.394531 C 15.605469 361.109375 22.324219 354.394531 30.605469 354.394531 C 38.890625 354.394531 45.605469 361.109375 45.605469 369.394531 \"/>\n",
       "<path style=\"fill:none;stroke-width:1;stroke-linecap:butt;stroke-linejoin:miter;stroke:rgb(26.666667%,26.666667%,26.666667%);stroke-opacity:1;stroke-miterlimit:10;\" d=\"M 20 20 C 85.96875 165.375 198.726562 231.132812 356.003906 204.121094 \"/>\n",
       "<path style=\" stroke:none;fill-rule:nonzero;fill:rgb(26.666667%,26.666667%,26.666667%);fill-opacity:1;\" d=\"M 370.0625 201.707031 L 356.789062 208.691406 L 355.21875 199.554688 L 370.0625 201.707031 \"/>\n",
       "<path style=\"fill:none;stroke-width:1;stroke-linecap:butt;stroke-linejoin:miter;stroke:rgb(26.666667%,26.666667%,26.666667%);stroke-opacity:1;stroke-miterlimit:10;\" d=\"M 45.605469 9.394531 C 45.605469 17.675781 38.890625 24.394531 30.605469 24.394531 C 22.324219 24.394531 15.605469 17.675781 15.605469 9.394531 C 15.605469 1.109375 22.324219 -5.605469 30.605469 -5.605469 C 38.890625 -5.605469 45.605469 1.109375 45.605469 9.394531 \"/>\n",
       "<path style=\"fill-rule:nonzero;fill:rgb(100%,0%,0%);fill-opacity:1;stroke-width:1;stroke-linecap:butt;stroke-linejoin:miter;stroke:rgb(0%,0%,0%);stroke-opacity:1;stroke-miterlimit:10;\" d=\"M 390 200 C 390 205.523438 385.523438 210 380 210 C 374.476562 210 370 205.523438 370 200 C 370 194.476562 374.476562 190 380 190 C 385.523438 190 390 194.476562 390 200 \"/>\n",
       "<path style=\"fill-rule:nonzero;fill:rgb(100%,0%,0%);fill-opacity:1;stroke-width:1;stroke-linecap:butt;stroke-linejoin:miter;stroke:rgb(0%,0%,0%);stroke-opacity:1;stroke-miterlimit:10;\" d=\"M 30 380 C 30 385.523438 25.523438 390 20 390 C 14.476562 390 10 385.523438 10 380 C 10 374.476562 14.476562 370 20 370 C 25.523438 370 30 374.476562 30 380 \"/>\n",
       "<path style=\"fill-rule:nonzero;fill:rgb(100%,0%,0%);fill-opacity:1;stroke-width:1;stroke-linecap:butt;stroke-linejoin:miter;stroke:rgb(0%,0%,0%);stroke-opacity:1;stroke-miterlimit:10;\" d=\"M 30 20 C 30 25.523438 25.523438 30 20 30 C 14.476562 30 10 25.523438 10 20 C 10 14.476562 14.476562 10 20 10 C 25.523438 10 30 14.476562 30 20 \"/>\n",
       "</g>\n",
       "</svg>\n"
      ],
      "text/plain": [
       "<igraph.drawing.Plot at 0x7f32585c3b00>"
      ]
     },
     "execution_count": 20,
     "metadata": {
      "image/svg+xml": {
       "isolated": true
      }
     },
     "output_type": "execute_result"
    }
   ],
   "source": [
    "l = list(range(1,4))\n",
    "G = ig.Graph.Degree_Sequence(l, l[::-1])\n",
    "ig.plot(G, bbox = (400,400), layout = G.layout('kk'))"
   ]
  },
  {
   "cell_type": "code",
   "execution_count": 13,
   "metadata": {},
   "outputs": [],
   "source": []
  },
  {
   "cell_type": "code",
   "execution_count": null,
   "metadata": {},
   "outputs": [],
   "source": []
  }
 ],
 "metadata": {
  "kernelspec": {
   "display_name": "Python 3",
   "language": "python",
   "name": "python3"
  },
  "language_info": {
   "codemirror_mode": {
    "name": "ipython",
    "version": 3
   },
   "file_extension": ".py",
   "mimetype": "text/x-python",
   "name": "python",
   "nbconvert_exporter": "python",
   "pygments_lexer": "ipython3",
   "version": "3.5.2"
  }
 },
 "nbformat": 4,
 "nbformat_minor": 2
}
