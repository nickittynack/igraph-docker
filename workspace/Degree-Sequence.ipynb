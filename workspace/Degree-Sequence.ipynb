{
 "cells": [
  {
   "cell_type": "code",
   "execution_count": 14,
   "metadata": {},
   "outputs": [],
   "source": [
    "import igraph as ig"
   ]
  },
  {
   "cell_type": "markdown",
   "metadata": {},
   "source": [
    "# Directed Degree Sequence\n",
    "Colours are provided as a pattern/ratio here."
   ]
  },
  {
   "cell_type": "code",
   "execution_count": 2,
   "metadata": {},
   "outputs": [
    {
     "name": "stdout",
     "output_type": "stream",
     "text": [
      "[1, 2, 3, 4, 5, 6, 7, 8, 9, 10]\n"
     ]
    },
    {
     "data": {
      "image/svg+xml": [
       "<?xml version=\"1.0\" encoding=\"UTF-8\"?>\n",
       "<svg xmlns=\"http://www.w3.org/2000/svg\" xmlns:xlink=\"http://www.w3.org/1999/xlink\" width=\"400pt\" height=\"400pt\" viewBox=\"0 0 400 400\" version=\"1.1\">\n",
       "<g id=\"surface2\">\n",
       "<rect x=\"0\" y=\"0\" width=\"400\" height=\"400\" style=\"fill:rgb(100%,100%,100%);fill-opacity:1;stroke:none;\"/>\n",
       "<path style=\"fill:none;stroke-width:1;stroke-linecap:butt;stroke-linejoin:miter;stroke:rgb(26.666667%,26.666667%,26.666667%);stroke-opacity:1;stroke-miterlimit:10;\" d=\"M 198.933594 144.507812 C 150.507812 190.257812 95.074219 199.941406 40.070312 162.609375 \"/>\n",
       "<path style=\" stroke:none;fill-rule:nonzero;fill:rgb(26.666667%,26.666667%,26.666667%);fill-opacity:1;\" d=\"M 28.269531 154.597656 L 42.675781 158.773438 L 37.46875 166.445312 L 28.269531 154.597656 \"/>\n",
       "<path style=\"fill:none;stroke-width:1;stroke-linecap:butt;stroke-linejoin:miter;stroke:rgb(26.666667%,26.666667%,26.666667%);stroke-opacity:1;stroke-miterlimit:10;\" d=\"M 198.933594 144.507812 C 250.023438 100.394531 306.53125 93.148438 360.542969 133.382812 \"/>\n",
       "<path style=\" stroke:none;fill-rule:nonzero;fill:rgb(26.666667%,26.666667%,26.666667%);fill-opacity:1;\" d=\"M 371.984375 141.90625 L 357.773438 137.101562 L 363.3125 129.667969 L 371.984375 141.90625 \"/>\n",
       "<path style=\"fill:none;stroke-width:1;stroke-linecap:butt;stroke-linejoin:miter;stroke:rgb(26.666667%,26.666667%,26.666667%);stroke-opacity:1;stroke-miterlimit:10;\" d=\"M 198.933594 144.507812 L 319.636719 252.71875 \"/>\n",
       "<path style=\" stroke:none;fill-rule:nonzero;fill:rgb(26.666667%,26.666667%,26.666667%);fill-opacity:1;\" d=\"M 330.257812 262.242188 L 316.542969 256.167969 L 322.730469 249.265625 L 330.257812 262.242188 \"/>\n",
       "<path style=\"fill:none;stroke-width:1;stroke-linecap:butt;stroke-linejoin:miter;stroke:rgb(26.666667%,26.666667%,26.666667%);stroke-opacity:1;stroke-miterlimit:10;\" d=\"M 198.933594 144.507812 C 146.925781 131.269531 115.597656 97.625 118.136719 44.199219 \"/>\n",
       "<path style=\" stroke:none;fill-rule:nonzero;fill:rgb(26.666667%,26.666667%,26.666667%);fill-opacity:1;\" d=\"M 118.816406 29.949219 L 122.769531 44.417969 L 113.507812 43.976562 L 118.816406 29.949219 \"/>\n",
       "<path style=\"fill:none;stroke-width:1;stroke-linecap:butt;stroke-linejoin:miter;stroke:rgb(26.666667%,26.666667%,26.666667%);stroke-opacity:1;stroke-miterlimit:10;\" d=\"M 283.957031 89.050781 C 321.910156 79.699219 354.695312 90.171875 370.296875 125.746094 \"/>\n",
       "<path style=\" stroke:none;fill-rule:nonzero;fill:rgb(26.666667%,26.666667%,26.666667%);fill-opacity:1;\" d=\"M 376.023438 138.8125 L 366.050781 127.609375 L 374.539062 123.882812 L 376.023438 138.8125 \"/>\n",
       "<path style=\"fill:none;stroke-width:1;stroke-linecap:butt;stroke-linejoin:miter;stroke:rgb(26.666667%,26.666667%,26.666667%);stroke-opacity:1;stroke-miterlimit:10;\" d=\"M 20 148.984375 C 37.519531 223.5 84.519531 267.199219 160.9375 266.824219 \"/>\n",
       "<path style=\" stroke:none;fill-rule:nonzero;fill:rgb(26.666667%,26.666667%,26.666667%);fill-opacity:1;\" d=\"M 175.203125 266.753906 L 160.960938 271.457031 L 160.914062 262.1875 L 175.203125 266.753906 \"/>\n",
       "<path style=\"fill:none;stroke-width:1;stroke-linecap:butt;stroke-linejoin:miter;stroke:rgb(26.666667%,26.666667%,26.666667%);stroke-opacity:1;stroke-miterlimit:10;\" d=\"M 198.933594 144.507812 C 208.71875 91.738281 191.308594 49.191406 141.738281 29.101562 \"/>\n",
       "<path style=\" stroke:none;fill-rule:nonzero;fill:rgb(26.666667%,26.666667%,26.666667%);fill-opacity:1;\" d=\"M 128.515625 23.742188 L 143.480469 24.804688 L 139.996094 33.394531 L 128.515625 23.742188 \"/>\n",
       "<path style=\"fill:none;stroke-width:1;stroke-linecap:butt;stroke-linejoin:miter;stroke:rgb(26.666667%,26.666667%,26.666667%);stroke-opacity:1;stroke-miterlimit:10;\" d=\"M 185.214844 266.703125 C 167.695312 192.191406 120.695312 148.492188 44.277344 148.867188 \"/>\n",
       "<path style=\" stroke:none;fill-rule:nonzero;fill:rgb(26.666667%,26.666667%,26.666667%);fill-opacity:1;\" d=\"M 30.011719 148.9375 L 44.253906 144.230469 L 44.300781 153.5 L 30.011719 148.9375 \"/>\n",
       "<path style=\"fill:none;stroke-width:1;stroke-linecap:butt;stroke-linejoin:miter;stroke:rgb(26.666667%,26.666667%,26.666667%);stroke-opacity:1;stroke-miterlimit:10;\" d=\"M 283.957031 89.050781 L 197.003906 245.492188 \"/>\n",
       "<path style=\" stroke:none;fill-rule:nonzero;fill:rgb(26.666667%,26.666667%,26.666667%);fill-opacity:1;\" d=\"M 190.074219 257.964844 L 192.953125 243.242188 L 201.054688 247.746094 L 190.074219 257.964844 \"/>\n",
       "<path style=\"fill:none;stroke-width:1;stroke-linecap:butt;stroke-linejoin:miter;stroke:rgb(26.666667%,26.666667%,26.666667%);stroke-opacity:1;stroke-miterlimit:10;\" d=\"M 283.957031 89.050781 C 343.742188 125.945312 368.46875 179.691406 345.613281 245.976562 \"/>\n",
       "<path style=\" stroke:none;fill-rule:nonzero;fill:rgb(26.666667%,26.666667%,26.666667%);fill-opacity:1;\" d=\"M 340.964844 259.460938 L 341.230469 244.464844 L 349.996094 247.488281 L 340.964844 259.460938 \"/>\n",
       "<path style=\"fill:none;stroke-width:1;stroke-linecap:butt;stroke-linejoin:miter;stroke:rgb(26.666667%,26.666667%,26.666667%);stroke-opacity:1;stroke-miterlimit:10;\" d=\"M 283.957031 89.050781 C 221.210938 110.902344 166.808594 97.082031 132.015625 40.648438 \"/>\n",
       "<path style=\" stroke:none;fill-rule:nonzero;fill:rgb(26.666667%,26.666667%,26.666667%);fill-opacity:1;\" d=\"M 124.53125 28.507812 L 135.964844 38.21875 L 128.070312 43.082031 L 124.53125 28.507812 \"/>\n",
       "<path style=\"fill:none;stroke-width:1;stroke-linecap:butt;stroke-linejoin:miter;stroke:rgb(26.666667%,26.666667%,26.666667%);stroke-opacity:1;stroke-miterlimit:10;\" d=\"M 337.703125 268.917969 C 318.515625 227.613281 323.503906 188.402344 360.339844 161.976562 \"/>\n",
       "<path style=\" stroke:none;fill-rule:nonzero;fill:rgb(26.666667%,26.666667%,26.666667%);fill-opacity:1;\" d=\"M 371.933594 153.664062 L 363.042969 165.746094 L 357.636719 158.210938 L 371.933594 153.664062 \"/>\n",
       "<path style=\"fill:none;stroke-width:1;stroke-linecap:butt;stroke-linejoin:miter;stroke:rgb(26.666667%,26.666667%,26.666667%);stroke-opacity:1;stroke-miterlimit:10;\" d=\"M 152.433594 180.691406 C 210.09375 114.480469 280.832031 95.855469 358.484375 136.589844 \"/>\n",
       "<path style=\" stroke:none;fill-rule:nonzero;fill:rgb(26.666667%,26.666667%,26.666667%);fill-opacity:1;\" d=\"M 371.121094 143.21875 L 356.332031 140.695312 L 360.640625 132.484375 L 371.121094 143.21875 \"/>\n",
       "<path style=\"fill:none;stroke-width:1;stroke-linecap:butt;stroke-linejoin:miter;stroke:rgb(26.666667%,26.666667%,26.666667%);stroke-opacity:1;stroke-miterlimit:10;\" d=\"M 152.433594 180.691406 C 213.710938 227 234.734375 287.855469 203.402344 357.839844 \"/>\n",
       "<path style=\" stroke:none;fill-rule:nonzero;fill:rgb(26.666667%,26.666667%,26.666667%);fill-opacity:1;\" d=\"M 197.574219 370.863281 L 199.171875 355.949219 L 207.632812 359.734375 L 197.574219 370.863281 \"/>\n",
       "<path style=\"fill:none;stroke-width:1;stroke-linecap:butt;stroke-linejoin:miter;stroke:rgb(26.666667%,26.666667%,26.666667%);stroke-opacity:1;stroke-miterlimit:10;\" d=\"M 337.703125 268.917969 C 378.441406 248.550781 398.960938 214.769531 386.597656 171.152344 \"/>\n",
       "<path style=\" stroke:none;fill-rule:nonzero;fill:rgb(26.666667%,26.666667%,26.666667%);fill-opacity:1;\" d=\"M 382.707031 157.429688 L 391.058594 169.890625 L 382.140625 172.417969 L 382.707031 157.429688 \"/>\n",
       "<path style=\"fill:none;stroke-width:1;stroke-linecap:butt;stroke-linejoin:miter;stroke:rgb(26.666667%,26.666667%,26.666667%);stroke-opacity:1;stroke-miterlimit:10;\" d=\"M 363.3125 258.308594 C 363.3125 266.59375 356.59375 273.308594 348.3125 273.308594 C 340.027344 273.308594 333.3125 266.59375 333.3125 258.308594 C 333.3125 250.027344 340.027344 243.308594 348.3125 243.308594 C 356.59375 243.308594 363.3125 250.027344 363.3125 258.308594 \"/>\n",
       "<path style=\"fill:none;stroke-width:1;stroke-linecap:butt;stroke-linejoin:miter;stroke:rgb(26.666667%,26.666667%,26.666667%);stroke-opacity:1;stroke-miterlimit:10;\" d=\"M 337.703125 268.917969 C 325.273438 335.660156 285.433594 376.816406 217.730469 379.160156 \"/>\n",
       "<path style=\" stroke:none;fill-rule:nonzero;fill:rgb(26.666667%,26.666667%,26.666667%);fill-opacity:1;\" d=\"M 203.472656 379.65625 L 217.570312 374.527344 L 217.890625 383.792969 L 203.472656 379.65625 \"/>\n",
       "<path style=\"fill:none;stroke-width:1;stroke-linecap:butt;stroke-linejoin:miter;stroke:rgb(26.666667%,26.666667%,26.666667%);stroke-opacity:1;stroke-miterlimit:10;\" d=\"M 337.703125 268.917969 L 371.996094 170.785156 \"/>\n",
       "<path style=\" stroke:none;fill-rule:nonzero;fill:rgb(26.666667%,26.666667%,26.666667%);fill-opacity:1;\" d=\"M 376.703125 157.316406 L 376.371094 172.3125 L 367.621094 169.253906 L 376.703125 157.316406 \"/>\n",
       "<path style=\"fill:none;stroke-width:1;stroke-linecap:butt;stroke-linejoin:miter;stroke:rgb(26.666667%,26.666667%,26.666667%);stroke-opacity:1;stroke-miterlimit:10;\" d=\"M 210.820312 256.097656 C 210.820312 264.382812 204.105469 271.097656 195.820312 271.097656 C 187.535156 271.097656 180.820312 264.382812 180.820312 256.097656 C 180.820312 247.8125 187.535156 241.097656 195.820312 241.097656 C 204.105469 241.097656 210.820312 247.8125 210.820312 256.097656 \"/>\n",
       "<path style=\"fill:none;stroke-width:1;stroke-linecap:butt;stroke-linejoin:miter;stroke:rgb(26.666667%,26.666667%,26.666667%);stroke-opacity:1;stroke-miterlimit:10;\" d=\"M 185.214844 266.703125 L 161.074219 203.367188 \"/>\n",
       "<path style=\" stroke:none;fill-rule:nonzero;fill:rgb(26.666667%,26.666667%,26.666667%);fill-opacity:1;\" d=\"M 155.996094 190.039062 L 165.40625 201.71875 L 156.746094 205.019531 L 155.996094 190.039062 \"/>\n",
       "<path style=\"fill:none;stroke-width:1;stroke-linecap:butt;stroke-linejoin:miter;stroke:rgb(26.666667%,26.666667%,26.666667%);stroke-opacity:1;stroke-miterlimit:10;\" d=\"M 193.480469 380 C 167.386719 330.46875 126.992188 298.625 71.414062 292.4375 \"/>\n",
       "<path style=\" stroke:none;fill-rule:nonzero;fill:rgb(26.666667%,26.666667%,26.666667%);fill-opacity:1;\" d=\"M 57.234375 290.863281 L 71.925781 287.832031 L 70.902344 297.046875 L 57.234375 290.863281 \"/>\n",
       "<path style=\"fill:none;stroke-width:1;stroke-linecap:butt;stroke-linejoin:miter;stroke:rgb(26.666667%,26.666667%,26.666667%);stroke-opacity:1;stroke-miterlimit:10;\" d=\"M 152.433594 180.691406 C 103.492188 145.257812 85.144531 97.304688 109.492188 42.175781 \"/>\n",
       "<path style=\" stroke:none;fill-rule:nonzero;fill:rgb(26.666667%,26.666667%,26.666667%);fill-opacity:1;\" d=\"M 115.257812 29.128906 L 113.734375 44.050781 L 105.253906 40.304688 L 115.257812 29.128906 \"/>\n",
       "<path style=\"fill:none;stroke-width:1;stroke-linecap:butt;stroke-linejoin:miter;stroke:rgb(26.666667%,26.666667%,26.666667%);stroke-opacity:1;stroke-miterlimit:10;\" d=\"M 380 147.875 C 342.046875 157.230469 309.261719 146.753906 293.660156 111.179688 \"/>\n",
       "<path style=\" stroke:none;fill-rule:nonzero;fill:rgb(26.666667%,26.666667%,26.666667%);fill-opacity:1;\" d=\"M 287.933594 98.117188 L 297.90625 109.320312 L 289.417969 113.042969 L 287.933594 98.117188 \"/>\n",
       "<path style=\"fill:none;stroke-width:1;stroke-linecap:butt;stroke-linejoin:miter;stroke:rgb(26.666667%,26.666667%,26.666667%);stroke-opacity:1;stroke-miterlimit:10;\" d=\"M 198.933594 144.507812 L 132.363281 40.441406 \"/>\n",
       "<path style=\" stroke:none;fill-rule:nonzero;fill:rgb(26.666667%,26.666667%,26.666667%);fill-opacity:1;\" d=\"M 124.675781 28.425781 L 136.269531 37.945312 L 128.460938 42.9375 L 124.675781 28.425781 \"/>\n",
       "<path style=\"fill:none;stroke-width:1;stroke-linecap:butt;stroke-linejoin:miter;stroke:rgb(26.666667%,26.666667%,26.666667%);stroke-opacity:1;stroke-miterlimit:10;\" d=\"M 283.957031 89.050781 L 359.308594 135.203125 \"/>\n",
       "<path style=\" stroke:none;fill-rule:nonzero;fill:rgb(26.666667%,26.666667%,26.666667%);fill-opacity:1;\" d=\"M 371.472656 142.652344 L 356.886719 139.15625 L 361.726562 131.25 L 371.472656 142.652344 \"/>\n",
       "<path style=\"fill:none;stroke-width:1;stroke-linecap:butt;stroke-linejoin:miter;stroke:rgb(26.666667%,26.666667%,26.666667%);stroke-opacity:1;stroke-miterlimit:10;\" d=\"M 20 148.984375 C 14.886719 89.320312 38.964844 44.464844 96.097656 27.0625 \"/>\n",
       "<path style=\" stroke:none;fill-rule:nonzero;fill:rgb(26.666667%,26.666667%,26.666667%);fill-opacity:1;\" d=\"M 109.742188 22.90625 L 97.449219 31.496094 L 94.746094 22.628906 L 109.742188 22.90625 \"/>\n",
       "<path style=\"fill:none;stroke-width:1;stroke-linecap:butt;stroke-linejoin:miter;stroke:rgb(26.666667%,26.666667%,26.666667%);stroke-opacity:1;stroke-miterlimit:10;\" d=\"M 198.933594 144.507812 C 148.277344 101.238281 92.429688 94.335938 39.363281 134.375 \"/>\n",
       "<path style=\" stroke:none;fill-rule:nonzero;fill:rgb(26.666667%,26.666667%,26.666667%);fill-opacity:1;\" d=\"M 27.976562 142.96875 L 36.574219 130.675781 L 42.15625 138.074219 L 27.976562 142.96875 \"/>\n",
       "<path style=\"fill:none;stroke-width:1;stroke-linecap:butt;stroke-linejoin:miter;stroke:rgb(26.666667%,26.666667%,26.666667%);stroke-opacity:1;stroke-miterlimit:10;\" d=\"M 144.894531 9.394531 C 144.894531 17.675781 138.179688 24.394531 129.894531 24.394531 C 121.609375 24.394531 114.894531 17.675781 114.894531 9.394531 C 114.894531 1.109375 121.609375 -5.605469 129.894531 -5.605469 C 138.179688 -5.605469 144.894531 1.109375 144.894531 9.394531 \"/>\n",
       "<path style=\"fill:none;stroke-width:1;stroke-linecap:butt;stroke-linejoin:miter;stroke:rgb(26.666667%,26.666667%,26.666667%);stroke-opacity:1;stroke-miterlimit:10;\" d=\"M 309.5625 78.445312 C 309.5625 86.726562 302.847656 93.445312 294.5625 93.445312 C 286.28125 93.445312 279.5625 86.726562 279.5625 78.445312 C 279.5625 70.160156 286.28125 63.445312 294.5625 63.445312 C 302.847656 63.445312 309.5625 70.160156 309.5625 78.445312 \"/>\n",
       "<path style=\"fill:none;stroke-width:1;stroke-linecap:butt;stroke-linejoin:miter;stroke:rgb(26.666667%,26.666667%,26.666667%);stroke-opacity:1;stroke-miterlimit:10;\" d=\"M 185.214844 266.703125 L 196.226562 168.621094 \"/>\n",
       "<path style=\" stroke:none;fill-rule:nonzero;fill:rgb(26.666667%,26.666667%,26.666667%);fill-opacity:1;\" d=\"M 197.820312 154.445312 L 200.832031 169.136719 L 191.621094 168.101562 L 197.820312 154.445312 \"/>\n",
       "<path style=\"fill:none;stroke-width:1;stroke-linecap:butt;stroke-linejoin:miter;stroke:rgb(26.666667%,26.666667%,26.666667%);stroke-opacity:1;stroke-miterlimit:10;\" d=\"M 47.609375 289.789062 L 24.667969 172.796875 \"/>\n",
       "<path style=\" stroke:none;fill-rule:nonzero;fill:rgb(26.666667%,26.666667%,26.666667%);fill-opacity:1;\" d=\"M 21.925781 158.800781 L 29.21875 171.90625 L 20.121094 173.691406 L 21.925781 158.800781 \"/>\n",
       "<path style=\"fill:none;stroke-width:1;stroke-linecap:butt;stroke-linejoin:miter;stroke:rgb(26.666667%,26.666667%,26.666667%);stroke-opacity:1;stroke-miterlimit:10;\" d=\"M 152.433594 180.691406 L 64.421875 272.292969 \"/>\n",
       "<path style=\" stroke:none;fill-rule:nonzero;fill:rgb(26.666667%,26.666667%,26.666667%);fill-opacity:1;\" d=\"M 54.539062 282.578125 L 61.082031 269.082031 L 67.765625 275.503906 L 54.539062 282.578125 \"/>\n",
       "<path style=\"fill:none;stroke-width:1;stroke-linecap:butt;stroke-linejoin:miter;stroke:rgb(26.666667%,26.666667%,26.666667%);stroke-opacity:1;stroke-miterlimit:10;\" d=\"M 337.703125 268.917969 C 270 263.894531 220.035156 291.90625 200.484375 356.769531 \"/>\n",
       "<path style=\" stroke:none;fill-rule:nonzero;fill:rgb(26.666667%,26.666667%,26.666667%);fill-opacity:1;\" d=\"M 196.367188 370.429688 L 196.046875 355.433594 L 204.921875 358.109375 L 196.367188 370.429688 \"/>\n",
       "<path style=\"fill:none;stroke-width:1;stroke-linecap:butt;stroke-linejoin:miter;stroke:rgb(26.666667%,26.666667%,26.666667%);stroke-opacity:1;stroke-miterlimit:10;\" d=\"M 152.433594 180.691406 C 114.441406 247.445312 119.175781 311.65625 175.613281 363.566406 \"/>\n",
       "<path style=\" stroke:none;fill-rule:nonzero;fill:rgb(26.666667%,26.666667%,26.666667%);fill-opacity:1;\" d=\"M 186.113281 373.222656 L 172.476562 366.976562 L 178.75 360.152344 L 186.113281 373.222656 \"/>\n",
       "<path style=\"fill:none;stroke-width:1;stroke-linecap:butt;stroke-linejoin:miter;stroke:rgb(26.666667%,26.666667%,26.666667%);stroke-opacity:1;stroke-miterlimit:10;\" d=\"M 219.089844 369.394531 C 219.089844 377.675781 212.375 384.394531 204.089844 384.394531 C 195.804688 384.394531 189.089844 377.675781 189.089844 369.394531 C 189.089844 361.109375 195.804688 354.394531 204.089844 354.394531 C 212.375 354.394531 219.089844 361.109375 219.089844 369.394531 \"/>\n",
       "<path style=\"fill:none;stroke-width:1;stroke-linecap:butt;stroke-linejoin:miter;stroke:rgb(26.666667%,26.666667%,26.666667%);stroke-opacity:1;stroke-miterlimit:10;\" d=\"M 193.480469 380 C 137.511719 378.78125 90.976562 356.867188 60.613281 309.902344 \"/>\n",
       "<path style=\" stroke:none;fill-rule:nonzero;fill:rgb(26.666667%,26.666667%,26.666667%);fill-opacity:1;\" d=\"M 52.867188 297.921875 L 64.507812 307.386719 L 56.722656 312.421875 L 52.867188 297.921875 \"/>\n",
       "<path style=\"fill:none;stroke-width:1;stroke-linecap:butt;stroke-linejoin:miter;stroke:rgb(26.666667%,26.666667%,26.666667%);stroke-opacity:1;stroke-miterlimit:10;\" d=\"M 198.933594 144.507812 C 191.980469 223.621094 150.171875 275.296875 71.652344 286.394531 \"/>\n",
       "<path style=\" stroke:none;fill-rule:nonzero;fill:rgb(26.666667%,26.666667%,26.666667%);fill-opacity:1;\" d=\"M 57.527344 288.390625 L 71.003906 281.804688 L 72.300781 290.980469 L 57.527344 288.390625 \"/>\n",
       "<path style=\"fill:none;stroke-width:1;stroke-linecap:butt;stroke-linejoin:miter;stroke:rgb(26.666667%,26.666667%,26.666667%);stroke-opacity:1;stroke-miterlimit:10;\" d=\"M 152.433594 180.691406 C 226.449219 227.917969 299.570312 225.792969 362.550781 164.78125 \"/>\n",
       "<path style=\" stroke:none;fill-rule:nonzero;fill:rgb(26.666667%,26.666667%,26.666667%);fill-opacity:1;\" d=\"M 372.796875 154.855469 L 365.777344 168.109375 L 359.324219 161.449219 L 372.796875 154.855469 \"/>\n",
       "<path style=\"fill:none;stroke-width:1;stroke-linecap:butt;stroke-linejoin:miter;stroke:rgb(26.666667%,26.666667%,26.666667%);stroke-opacity:1;stroke-miterlimit:10;\" d=\"M 185.214844 266.703125 L 39.761719 163.066406 \"/>\n",
       "<path style=\" stroke:none;fill-rule:nonzero;fill:rgb(26.666667%,26.666667%,26.666667%);fill-opacity:1;\" d=\"M 28.144531 154.789062 L 42.453125 159.292969 L 37.074219 166.84375 L 28.144531 154.789062 \"/>\n",
       "<path style=\"fill:none;stroke-width:1;stroke-linecap:butt;stroke-linejoin:miter;stroke:rgb(26.666667%,26.666667%,26.666667%);stroke-opacity:1;stroke-miterlimit:10;\" d=\"M 20 148.984375 L 128.835938 175.042969 \"/>\n",
       "<path style=\" stroke:none;fill-rule:nonzero;fill:rgb(26.666667%,26.666667%,26.666667%);fill-opacity:1;\" d=\"M 142.707031 178.363281 L 127.753906 179.550781 L 129.914062 170.535156 L 142.707031 178.363281 \"/>\n",
       "<path style=\"fill:none;stroke-width:1;stroke-linecap:butt;stroke-linejoin:miter;stroke:rgb(26.666667%,26.666667%,26.666667%);stroke-opacity:1;stroke-miterlimit:10;\" d=\"M 152.433594 180.691406 L 355.984375 151.339844 \"/>\n",
       "<path style=\" stroke:none;fill-rule:nonzero;fill:rgb(26.666667%,26.666667%,26.666667%);fill-opacity:1;\" d=\"M 370.101562 149.304688 L 356.644531 155.925781 L 355.320312 146.75 L 370.101562 149.304688 \"/>\n",
       "<path style=\"fill:none;stroke-width:1;stroke-linecap:butt;stroke-linejoin:miter;stroke:rgb(26.666667%,26.666667%,26.666667%);stroke-opacity:1;stroke-miterlimit:10;\" d=\"M 283.957031 89.050781 L 172.34375 166.820312 \"/>\n",
       "<path style=\" stroke:none;fill-rule:nonzero;fill:rgb(26.666667%,26.666667%,26.666667%);fill-opacity:1;\" d=\"M 160.636719 174.976562 L 169.691406 163.015625 L 174.992188 170.625 L 160.636719 174.976562 \"/>\n",
       "<path style=\"fill:none;stroke-width:1;stroke-linecap:butt;stroke-linejoin:miter;stroke:rgb(26.666667%,26.666667%,26.666667%);stroke-opacity:1;stroke-miterlimit:10;\" d=\"M 283.957031 89.050781 C 255.5625 28.980469 207.574219 -0.136719 142.9375 14.605469 \"/>\n",
       "<path style=\" stroke:none;fill-rule:nonzero;fill:rgb(26.666667%,26.666667%,26.666667%);fill-opacity:1;\" d=\"M 129.03125 17.777344 L 141.90625 10.085938 L 143.96875 19.125 L 129.03125 17.777344 \"/>\n",
       "<path style=\"fill:none;stroke-width:1;stroke-linecap:butt;stroke-linejoin:miter;stroke:rgb(26.666667%,26.666667%,26.666667%);stroke-opacity:1;stroke-miterlimit:10;\" d=\"M 198.933594 144.507812 C 119.601562 148.234375 66.265625 187.90625 51.984375 265.90625 \"/>\n",
       "<path style=\" stroke:none;fill-rule:nonzero;fill:rgb(26.666667%,26.666667%,26.666667%);fill-opacity:1;\" d=\"M 49.414062 279.9375 L 47.425781 265.070312 L 56.542969 266.738281 L 49.414062 279.9375 \"/>\n",
       "<path style=\"fill:none;stroke-width:1;stroke-linecap:butt;stroke-linejoin:miter;stroke:rgb(26.666667%,26.666667%,26.666667%);stroke-opacity:1;stroke-miterlimit:10;\" d=\"M 152.433594 180.691406 C 183.359375 128.78125 181.230469 77.484375 137.058594 36.492188 \"/>\n",
       "<path style=\" stroke:none;fill-rule:nonzero;fill:rgb(26.666667%,26.666667%,26.666667%);fill-opacity:1;\" d=\"M 126.601562 26.789062 L 140.210938 33.09375 L 133.90625 39.890625 L 126.601562 26.789062 \"/>\n",
       "<path style=\"fill:none;stroke-width:1;stroke-linecap:butt;stroke-linejoin:miter;stroke:rgb(26.666667%,26.666667%,26.666667%);stroke-opacity:1;stroke-miterlimit:10;\" d=\"M 47.609375 289.789062 C 116.289062 265.347656 169.054688 285.859375 187.292969 356.148438 \"/>\n",
       "<path style=\" stroke:none;fill-rule:nonzero;fill:rgb(26.666667%,26.666667%,26.666667%);fill-opacity:1;\" d=\"M 190.875 369.957031 L 182.804688 357.3125 L 191.777344 354.984375 L 190.875 369.957031 \"/>\n",
       "<path style=\"fill:none;stroke-width:1;stroke-linecap:butt;stroke-linejoin:miter;stroke:rgb(26.666667%,26.666667%,26.666667%);stroke-opacity:1;stroke-miterlimit:10;\" d=\"M 47.609375 289.789062 C 56.421875 362.15625 98.34375 400.199219 169.375 385.117188 \"/>\n",
       "<path style=\" stroke:none;fill-rule:nonzero;fill:rgb(26.666667%,26.666667%,26.666667%);fill-opacity:1;\" d=\"M 183.332031 382.15625 L 170.339844 389.652344 L 168.414062 380.582031 L 183.332031 382.15625 \"/>\n",
       "<path style=\"fill:none;stroke-width:1;stroke-linecap:butt;stroke-linejoin:miter;stroke:rgb(26.666667%,26.666667%,26.666667%);stroke-opacity:1;stroke-miterlimit:10;\" d=\"M 198.933594 144.507812 C 248.347656 190.488281 304.542969 199.832031 360.019531 161.632812 \"/>\n",
       "<path style=\" stroke:none;fill-rule:nonzero;fill:rgb(26.666667%,26.666667%,26.666667%);fill-opacity:1;\" d=\"M 371.769531 153.542969 L 362.648438 165.453125 L 357.390625 157.816406 L 371.769531 153.542969 \"/>\n",
       "<path style=\"fill:none;stroke-width:1;stroke-linecap:butt;stroke-linejoin:miter;stroke:rgb(26.666667%,26.666667%,26.666667%);stroke-opacity:1;stroke-miterlimit:10;\" d=\"M 337.703125 268.917969 L 209.476562 267.054688 \"/>\n",
       "<path style=\" stroke:none;fill-rule:nonzero;fill:rgb(26.666667%,26.666667%,26.666667%);fill-opacity:1;\" d=\"M 195.214844 266.847656 L 209.542969 262.421875 L 209.410156 271.691406 L 195.214844 266.847656 \"/>\n",
       "<path style=\"fill:none;stroke-width:1;stroke-linecap:butt;stroke-linejoin:miter;stroke:rgb(26.666667%,26.666667%,26.666667%);stroke-opacity:1;stroke-miterlimit:10;\" d=\"M 47.609375 289.789062 C 89.257812 317.878906 132.488281 318.988281 168.019531 283.753906 \"/>\n",
       "<path style=\" stroke:none;fill-rule:nonzero;fill:rgb(26.666667%,26.666667%,26.666667%);fill-opacity:1;\" d=\"M 178.152344 273.707031 L 171.285156 287.042969 L 164.757812 280.460938 L 178.152344 273.707031 \"/>\n",
       "<path style=\"fill:none;stroke-width:1;stroke-linecap:butt;stroke-linejoin:miter;stroke:rgb(26.666667%,26.666667%,26.666667%);stroke-opacity:1;stroke-miterlimit:10;\" d=\"M 45.605469 138.378906 C 45.605469 146.664062 38.890625 153.378906 30.605469 153.378906 C 22.324219 153.378906 15.605469 146.664062 15.605469 138.378906 C 15.605469 130.09375 22.324219 123.378906 30.605469 123.378906 C 38.890625 123.378906 45.605469 130.09375 45.605469 138.378906 \"/>\n",
       "<path style=\"fill:none;stroke-width:1;stroke-linecap:butt;stroke-linejoin:miter;stroke:rgb(26.666667%,26.666667%,26.666667%);stroke-opacity:1;stroke-miterlimit:10;\" d=\"M 47.609375 289.789062 L 172.84375 367.238281 \"/>\n",
       "<path style=\" stroke:none;fill-rule:nonzero;fill:rgb(26.666667%,26.666667%,26.666667%);fill-opacity:1;\" d=\"M 184.976562 374.742188 L 170.40625 371.179688 L 175.28125 363.292969 L 184.976562 374.742188 \"/>\n",
       "<path style=\"fill:none;stroke-width:1;stroke-linecap:butt;stroke-linejoin:miter;stroke:rgb(26.666667%,26.666667%,26.666667%);stroke-opacity:1;stroke-miterlimit:10;\" d=\"M 185.214844 266.703125 C 143.566406 238.613281 100.335938 237.507812 64.804688 272.742188 \"/>\n",
       "<path style=\" stroke:none;fill-rule:nonzero;fill:rgb(26.666667%,26.666667%,26.666667%);fill-opacity:1;\" d=\"M 54.675781 282.785156 L 61.539062 269.449219 L 68.066406 276.03125 L 54.675781 282.785156 \"/>\n",
       "<path style=\"fill:none;stroke-width:1;stroke-linecap:butt;stroke-linejoin:miter;stroke:rgb(26.666667%,26.666667%,26.666667%);stroke-opacity:1;stroke-miterlimit:10;\" d=\"M 283.957031 89.050781 C 254.214844 152.695312 263.03125 211.199219 318.503906 254.078125 \"/>\n",
       "<path style=\" stroke:none;fill-rule:nonzero;fill:rgb(26.666667%,26.666667%,26.666667%);fill-opacity:1;\" d=\"M 329.792969 262.800781 L 315.671875 257.742188 L 321.339844 250.410156 L 329.792969 262.800781 \"/>\n",
       "<path style=\"fill:none;stroke-width:1;stroke-linecap:butt;stroke-linejoin:miter;stroke:rgb(26.666667%,26.666667%,26.666667%);stroke-opacity:1;stroke-miterlimit:10;\" d=\"M 119.289062 20 C 124.402344 79.664062 100.320312 124.519531 43.191406 141.921875 \"/>\n",
       "<path style=\" stroke:none;fill-rule:nonzero;fill:rgb(26.666667%,26.666667%,26.666667%);fill-opacity:1;\" d=\"M 29.542969 146.078125 L 41.839844 137.488281 L 44.542969 146.355469 L 29.542969 146.078125 \"/>\n",
       "<path style=\"fill-rule:nonzero;fill:rgb(100%,75.294118%,79.607843%);fill-opacity:1;stroke-width:1;stroke-linecap:butt;stroke-linejoin:miter;stroke:rgb(0%,0%,0%);stroke-opacity:1;stroke-miterlimit:10;\" d=\"M 390 147.875 C 390 153.398438 385.523438 157.875 380 157.875 C 374.476562 157.875 370 153.398438 370 147.875 C 370 142.351562 374.476562 137.875 380 137.875 C 385.523438 137.875 390 142.351562 390 147.875 \"/>\n",
       "<path style=\"fill-rule:nonzero;fill:rgb(0%,0%,100%);fill-opacity:1;stroke-width:1;stroke-linecap:butt;stroke-linejoin:miter;stroke:rgb(0%,0%,0%);stroke-opacity:1;stroke-miterlimit:10;\" d=\"M 129.289062 20 C 129.289062 25.523438 124.808594 30 119.289062 30 C 113.765625 30 109.289062 25.523438 109.289062 20 C 109.289062 14.476562 113.765625 10 119.289062 10 C 124.808594 10 129.289062 14.476562 129.289062 20 \"/>\n",
       "<path style=\"fill-rule:nonzero;fill:rgb(0%,0%,100%);fill-opacity:1;stroke-width:1;stroke-linecap:butt;stroke-linejoin:miter;stroke:rgb(0%,0%,0%);stroke-opacity:1;stroke-miterlimit:10;\" d=\"M 203.480469 380 C 203.480469 385.523438 199.003906 390 193.480469 390 C 187.960938 390 183.480469 385.523438 183.480469 380 C 183.480469 374.476562 187.960938 370 193.480469 370 C 199.003906 370 203.480469 374.476562 203.480469 380 \"/>\n",
       "<path style=\"fill-rule:nonzero;fill:rgb(100%,75.294118%,79.607843%);fill-opacity:1;stroke-width:1;stroke-linecap:butt;stroke-linejoin:miter;stroke:rgb(0%,0%,0%);stroke-opacity:1;stroke-miterlimit:10;\" d=\"M 30 148.984375 C 30 154.507812 25.523438 158.984375 20 158.984375 C 14.476562 158.984375 10 154.507812 10 148.984375 C 10 143.464844 14.476562 138.984375 20 138.984375 C 25.523438 138.984375 30 143.464844 30 148.984375 \"/>\n",
       "<path style=\"fill-rule:nonzero;fill:rgb(0%,0%,100%);fill-opacity:1;stroke-width:1;stroke-linecap:butt;stroke-linejoin:miter;stroke:rgb(0%,0%,0%);stroke-opacity:1;stroke-miterlimit:10;\" d=\"M 57.609375 289.789062 C 57.609375 295.3125 53.132812 299.789062 47.609375 299.789062 C 42.085938 299.789062 37.609375 295.3125 37.609375 289.789062 C 37.609375 284.269531 42.085938 279.789062 47.609375 279.789062 C 53.132812 279.789062 57.609375 284.269531 57.609375 289.789062 \"/>\n",
       "<path style=\"fill-rule:nonzero;fill:rgb(0%,0%,100%);fill-opacity:1;stroke-width:1;stroke-linecap:butt;stroke-linejoin:miter;stroke:rgb(0%,0%,0%);stroke-opacity:1;stroke-miterlimit:10;\" d=\"M 195.214844 266.703125 C 195.214844 272.226562 190.738281 276.703125 185.214844 276.703125 C 179.691406 276.703125 175.214844 272.226562 175.214844 266.703125 C 175.214844 261.179688 179.691406 256.703125 185.214844 256.703125 C 190.738281 256.703125 195.214844 261.179688 195.214844 266.703125 \"/>\n",
       "<path style=\"fill-rule:nonzero;fill:rgb(100%,75.294118%,79.607843%);fill-opacity:1;stroke-width:1;stroke-linecap:butt;stroke-linejoin:miter;stroke:rgb(0%,0%,0%);stroke-opacity:1;stroke-miterlimit:10;\" d=\"M 347.703125 268.917969 C 347.703125 274.4375 343.226562 278.917969 337.703125 278.917969 C 332.179688 278.917969 327.703125 274.4375 327.703125 268.917969 C 327.703125 263.394531 332.179688 258.917969 337.703125 258.917969 C 343.226562 258.917969 347.703125 263.394531 347.703125 268.917969 \"/>\n",
       "<path style=\"fill-rule:nonzero;fill:rgb(0%,0%,100%);fill-opacity:1;stroke-width:1;stroke-linecap:butt;stroke-linejoin:miter;stroke:rgb(0%,0%,0%);stroke-opacity:1;stroke-miterlimit:10;\" d=\"M 162.433594 180.691406 C 162.433594 186.214844 157.957031 190.691406 152.433594 190.691406 C 146.910156 190.691406 142.433594 186.214844 142.433594 180.691406 C 142.433594 175.171875 146.910156 170.691406 152.433594 170.691406 C 157.957031 170.691406 162.433594 175.171875 162.433594 180.691406 \"/>\n",
       "<path style=\"fill-rule:nonzero;fill:rgb(0%,0%,100%);fill-opacity:1;stroke-width:1;stroke-linecap:butt;stroke-linejoin:miter;stroke:rgb(0%,0%,0%);stroke-opacity:1;stroke-miterlimit:10;\" d=\"M 293.957031 89.050781 C 293.957031 94.574219 289.480469 99.050781 283.957031 99.050781 C 278.433594 99.050781 273.957031 94.574219 273.957031 89.050781 C 273.957031 83.527344 278.433594 79.050781 283.957031 79.050781 C 289.480469 79.050781 293.957031 83.527344 293.957031 89.050781 \"/>\n",
       "<path style=\"fill-rule:nonzero;fill:rgb(100%,75.294118%,79.607843%);fill-opacity:1;stroke-width:1;stroke-linecap:butt;stroke-linejoin:miter;stroke:rgb(0%,0%,0%);stroke-opacity:1;stroke-miterlimit:10;\" d=\"M 208.933594 144.507812 C 208.933594 150.027344 204.457031 154.507812 198.933594 154.507812 C 193.410156 154.507812 188.933594 150.027344 188.933594 144.507812 C 188.933594 138.984375 193.410156 134.507812 198.933594 134.507812 C 204.457031 134.507812 208.933594 138.984375 208.933594 144.507812 \"/>\n",
       "</g>\n",
       "</svg>\n"
      ],
      "text/plain": [
       "<igraph.drawing.Plot at 0x7f0203faae48>"
      ]
     },
     "execution_count": 2,
     "metadata": {
      "image/svg+xml": {
       "isolated": true
      }
     },
     "output_type": "execute_result"
    }
   ],
   "source": [
    "l = list(range(1,11))\n",
    "G = ig.Graph.Degree_Sequence(l, l[::-1])\n",
    "color_dict = {\"m\": \"blue\", \"f\": \"pink\"}\n",
    "G.vs[\"gender\"] = [\"f\", \"m\", \"m\"]\n",
    "G.vs[\"color\"] = [color_dict[gender] for gender in G.vs[\"gender\"]]\n",
    "ig.plot(G, bbox = (400,400), layout = G.layout('kk'))"
   ]
  },
  {
   "cell_type": "code",
   "execution_count": 20,
   "metadata": {},
   "outputs": [
    {
     "data": {
      "image/svg+xml": [
       "<?xml version=\"1.0\" encoding=\"UTF-8\"?>\n",
       "<svg xmlns=\"http://www.w3.org/2000/svg\" xmlns:xlink=\"http://www.w3.org/1999/xlink\" width=\"400pt\" height=\"400pt\" viewBox=\"0 0 400 400\" version=\"1.1\">\n",
       "<g id=\"surface38\">\n",
       "<rect x=\"0\" y=\"0\" width=\"400\" height=\"400\" style=\"fill:rgb(100%,100%,100%);fill-opacity:1;stroke:none;\"/>\n",
       "<path style=\"fill:none;stroke-width:1;stroke-linecap:butt;stroke-linejoin:miter;stroke:rgb(26.666667%,26.666667%,26.666667%);stroke-opacity:1;stroke-miterlimit:10;\" d=\"M 380 20 L 204.507812 134.785156 \"/>\n",
       "<path style=\"fill:none;stroke-width:1;stroke-linecap:butt;stroke-linejoin:miter;stroke:rgb(26.666667%,26.666667%,26.666667%);stroke-opacity:1;stroke-miterlimit:10;\" d=\"M 86.074219 380 L 204.507812 134.785156 \"/>\n",
       "<path style=\"fill:none;stroke-width:1;stroke-linecap:butt;stroke-linejoin:miter;stroke:rgb(26.666667%,26.666667%,26.666667%);stroke-opacity:1;stroke-miterlimit:10;\" d=\"M 86.074219 380 L 20 87.722656 \"/>\n",
       "<path style=\"fill:none;stroke-width:1;stroke-linecap:butt;stroke-linejoin:miter;stroke:rgb(26.666667%,26.666667%,26.666667%);stroke-opacity:1;stroke-miterlimit:10;\" d=\"M 204.507812 134.785156 L 20 87.722656 \"/>\n",
       "<path style=\"fill:none;stroke-width:1;stroke-linecap:butt;stroke-linejoin:miter;stroke:rgb(26.666667%,26.666667%,26.666667%);stroke-opacity:1;stroke-miterlimit:10;\" d=\"M 45.605469 77.117188 C 45.605469 85.398438 38.890625 92.117188 30.605469 92.117188 C 22.324219 92.117188 15.605469 85.398438 15.605469 77.117188 C 15.605469 68.832031 22.324219 62.117188 30.605469 62.117188 C 38.890625 62.117188 45.605469 68.832031 45.605469 77.117188 \"/>\n",
       "<path style=\"fill-rule:nonzero;fill:rgb(100%,0%,0%);fill-opacity:1;stroke-width:1;stroke-linecap:butt;stroke-linejoin:miter;stroke:rgb(0%,0%,0%);stroke-opacity:1;stroke-miterlimit:10;\" d=\"M 390 20 C 390 25.523438 385.523438 30 380 30 C 374.476562 30 370 25.523438 370 20 C 370 14.476562 374.476562 10 380 10 C 385.523438 10 390 14.476562 390 20 \"/>\n",
       "<path style=\"fill-rule:nonzero;fill:rgb(100%,0%,0%);fill-opacity:1;stroke-width:1;stroke-linecap:butt;stroke-linejoin:miter;stroke:rgb(0%,0%,0%);stroke-opacity:1;stroke-miterlimit:10;\" d=\"M 96.074219 380 C 96.074219 385.523438 91.597656 390 86.074219 390 C 80.554688 390 76.074219 385.523438 76.074219 380 C 76.074219 374.476562 80.554688 370 86.074219 370 C 91.597656 370 96.074219 374.476562 96.074219 380 \"/>\n",
       "<path style=\"fill-rule:nonzero;fill:rgb(100%,0%,0%);fill-opacity:1;stroke-width:1;stroke-linecap:butt;stroke-linejoin:miter;stroke:rgb(0%,0%,0%);stroke-opacity:1;stroke-miterlimit:10;\" d=\"M 214.507812 134.785156 C 214.507812 140.308594 210.03125 144.785156 204.507812 144.785156 C 198.984375 144.785156 194.507812 140.308594 194.507812 134.785156 C 194.507812 129.261719 198.984375 124.785156 204.507812 124.785156 C 210.03125 124.785156 214.507812 129.261719 214.507812 134.785156 \"/>\n",
       "<path style=\"fill-rule:nonzero;fill:rgb(100%,0%,0%);fill-opacity:1;stroke-width:1;stroke-linecap:butt;stroke-linejoin:miter;stroke:rgb(0%,0%,0%);stroke-opacity:1;stroke-miterlimit:10;\" d=\"M 30 87.722656 C 30 93.246094 25.523438 97.722656 20 97.722656 C 14.476562 97.722656 10 93.246094 10 87.722656 C 10 82.199219 14.476562 77.722656 20 77.722656 C 25.523438 77.722656 30 82.199219 30 87.722656 \"/>\n",
       "</g>\n",
       "</svg>\n"
      ],
      "text/plain": [
       "<igraph.drawing.Plot at 0x7f02000304a8>"
      ]
     },
     "execution_count": 20,
     "metadata": {
      "image/svg+xml": {
       "isolated": true
      }
     },
     "output_type": "execute_result"
    }
   ],
   "source": [
    "l = list(range(1,5))\n",
    "G = ig.Graph.Degree_Sequence(l)\n",
    "ig.plot(G, bbox = (400,400), layout = G.layout('kk'))"
   ]
  },
  {
   "cell_type": "code",
   "execution_count": null,
   "metadata": {},
   "outputs": [],
   "source": []
  }
 ],
 "metadata": {
  "kernelspec": {
   "display_name": "Python 3",
   "language": "python",
   "name": "python3"
  },
  "language_info": {
   "codemirror_mode": {
    "name": "ipython",
    "version": 3
   },
   "file_extension": ".py",
   "mimetype": "text/x-python",
   "name": "python",
   "nbconvert_exporter": "python",
   "pygments_lexer": "ipython3",
   "version": "3.5.2"
  }
 },
 "nbformat": 4,
 "nbformat_minor": 2
}
